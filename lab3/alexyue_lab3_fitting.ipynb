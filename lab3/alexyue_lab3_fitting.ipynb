{
 "cells": [
  {
   "cell_type": "code",
   "execution_count": 9,
   "metadata": {},
   "outputs": [],
   "source": [
    "import numpy as np\n",
    "import matplotlib.pyplot as plt\n",
    "from scipy.optimize import curve_fit\n",
    "from scipy.special import wofz\n",
    "import uncertainties "
   ]
  },
  {
   "cell_type": "code",
   "execution_count": 2,
   "metadata": {},
   "outputs": [],
   "source": [
    "filename = 'ALPHA_HD.txt'\n",
    "x, y= np.loadtxt(filename,skiprows=1,unpack=True) #The function should automatically deal with a delimiter."
   ]
  },
  {
   "cell_type": "code",
   "execution_count": 3,
   "metadata": {},
   "outputs": [
    {
     "ename": "RuntimeError",
     "evalue": "Optimal parameters not found: Number of calls to function has reached maxfev = 1000.",
     "output_type": "error",
     "traceback": [
      "\u001b[1;31m---------------------------------------------------------------------------\u001b[0m",
      "\u001b[1;31mRuntimeError\u001b[0m                              Traceback (most recent call last)",
      "Input \u001b[1;32mIn [3]\u001b[0m, in \u001b[0;36m<cell line: 19>\u001b[1;34m()\u001b[0m\n\u001b[0;32m     17\u001b[0m params_gaussian, _ \u001b[38;5;241m=\u001b[39m curve_fit(gaussian, x, y) \u001b[38;5;66;03m#, p0=p0_gaussian\u001b[39;00m\n\u001b[0;32m     18\u001b[0m params_lorentzian, _ \u001b[38;5;241m=\u001b[39m curve_fit(lorentzian, x, y)\n\u001b[1;32m---> 19\u001b[0m params_voigt, _ \u001b[38;5;241m=\u001b[39m \u001b[43mcurve_fit\u001b[49m\u001b[43m(\u001b[49m\u001b[43mvoigt\u001b[49m\u001b[43m,\u001b[49m\u001b[43m \u001b[49m\u001b[43mx\u001b[49m\u001b[43m,\u001b[49m\u001b[43m \u001b[49m\u001b[43my\u001b[49m\u001b[43m)\u001b[49m\n\u001b[0;32m     21\u001b[0m y_fit_gaussian \u001b[38;5;241m=\u001b[39m gaussian(x, \u001b[38;5;241m*\u001b[39mparams_gaussian)\n\u001b[0;32m     22\u001b[0m y_fit_lorentzian \u001b[38;5;241m=\u001b[39m lorentzian(x, \u001b[38;5;241m*\u001b[39mparams_lorentzian)\n",
      "File \u001b[1;32mc:\\ProgramData\\Anaconda3\\lib\\site-packages\\scipy\\optimize\\minpack.py:794\u001b[0m, in \u001b[0;36mcurve_fit\u001b[1;34m(f, xdata, ydata, p0, sigma, absolute_sigma, check_finite, bounds, method, jac, **kwargs)\u001b[0m\n\u001b[0;32m    792\u001b[0m     cost \u001b[38;5;241m=\u001b[39m np\u001b[38;5;241m.\u001b[39msum(infodict[\u001b[38;5;124m'\u001b[39m\u001b[38;5;124mfvec\u001b[39m\u001b[38;5;124m'\u001b[39m] \u001b[38;5;241m*\u001b[39m\u001b[38;5;241m*\u001b[39m \u001b[38;5;241m2\u001b[39m)\n\u001b[0;32m    793\u001b[0m     \u001b[38;5;28;01mif\u001b[39;00m ier \u001b[38;5;129;01mnot\u001b[39;00m \u001b[38;5;129;01min\u001b[39;00m [\u001b[38;5;241m1\u001b[39m, \u001b[38;5;241m2\u001b[39m, \u001b[38;5;241m3\u001b[39m, \u001b[38;5;241m4\u001b[39m]:\n\u001b[1;32m--> 794\u001b[0m         \u001b[38;5;28;01mraise\u001b[39;00m \u001b[38;5;167;01mRuntimeError\u001b[39;00m(\u001b[38;5;124m\"\u001b[39m\u001b[38;5;124mOptimal parameters not found: \u001b[39m\u001b[38;5;124m\"\u001b[39m \u001b[38;5;241m+\u001b[39m errmsg)\n\u001b[0;32m    795\u001b[0m \u001b[38;5;28;01melse\u001b[39;00m:\n\u001b[0;32m    796\u001b[0m     \u001b[38;5;66;03m# Rename maxfev (leastsq) to max_nfev (least_squares), if specified.\u001b[39;00m\n\u001b[0;32m    797\u001b[0m     \u001b[38;5;28;01mif\u001b[39;00m \u001b[38;5;124m'\u001b[39m\u001b[38;5;124mmax_nfev\u001b[39m\u001b[38;5;124m'\u001b[39m \u001b[38;5;129;01mnot\u001b[39;00m \u001b[38;5;129;01min\u001b[39;00m kwargs:\n",
      "\u001b[1;31mRuntimeError\u001b[0m: Optimal parameters not found: Number of calls to function has reached maxfev = 1000."
     ]
    }
   ],
   "source": [
    "\n",
    "\n",
    "\n",
    "def gaussian(x, amplitude, center, width):\n",
    "    return amplitude * np.exp(-((x - center) ** 2) / (2 * width ** 2))\n",
    "\n",
    "def lorentzian(x, amplitude, center, width):\n",
    "    return amplitude * width ** 2 / ((x - center) ** 2 + width ** 2)\n",
    "\n",
    "def voigt(x, amplitude, center, sigma, gamma):\n",
    "    z = ((x - center) + 1j * gamma) / (sigma * np.sqrt(2))\n",
    "    return amplitude * np.real(wofz(z)) / (sigma * np.sqrt(2 * np.pi))\n",
    "\n",
    "# --- Generate artificial noisy data ---\n",
    "true_amplitude = 1.0\n",
    "true_center = 550\n",
    "true_width = 20\n",
    "true_gamma = 10\n",
    "\n",
    "params_gaussian, _ = curve_fit(gaussian, x, y) #, p0=p0_gaussian\n",
    "params_lorentzian, _ = curve_fit(lorentzian, x, y)\n",
    "params_voigt, _ = curve_fit(voigt, x, y)\n",
    "\n",
    "y_fit_gaussian = gaussian(x, *params_gaussian)\n",
    "y_fit_lorentzian = lorentzian(x, *params_lorentzian)\n",
    "y_fit_voigt = voigt(x, *params_voigt)\n",
    "\n",
    "fig, axs = plt.subplots(3, 2, figsize=(12, 12), gridspec_kw={\"height_ratios\": [3, 3, 3]})\n",
    "\n",
    "# Gaussian fit\n",
    "axs[0, 0].plot(x, y, 'b.', label=\"Data\")\n",
    "axs[0, 0].plot(x, y_fit_gaussian, 'r-', label=\"Gaussian Fit\")\n",
    "axs[0, 0].set_title(\"Gaussian Fit\")\n",
    "axs[0, 0].legend()\n",
    "axs[0, 1].plot(x, y - y_fit_gaussian, 'k.', label=\"Residuals\")\n",
    "axs[0, 1].axhline(0, color='gray', linestyle='--')\n",
    "axs[0, 1].set_title(\"Gaussian Residuals\")\n",
    "\n",
    "# Lorentzian fit\n",
    "axs[1, 0].plot(x, y, 'b.', label=\"Data\")\n",
    "axs[1, 0].plot(x, y_fit_lorentzian, 'g-', label=\"Lorentzian Fit\")\n",
    "axs[1, 0].set_title(\"Lorentzian Fit\")\n",
    "axs[1, 0].legend()\n",
    "axs[1, 1].plot(x, y - y_fit_lorentzian, 'k.', label=\"Residuals\")\n",
    "axs[1, 1].axhline(0, color='gray', linestyle='--')\n",
    "axs[1, 1].set_title(\"Lorentzian Residuals\")\n",
    "\n",
    "# Voigt fit\n",
    "axs[2, 0].plot(x, y, 'b.', label=\"Data\")\n",
    "axs[2, 0].plot(x, y_fit_voigt, 'm-', label=\"Voigt Fit\")\n",
    "axs[2, 0].set_title(\"Voigt Fit\")\n",
    "axs[2, 0].legend()\n",
    "axs[2, 1].plot(x, y - y_fit_voigt, 'k.', label=\"Residuals\")\n",
    "axs[2, 1].axhline(0, color='gray', linestyle='--')\n",
    "axs[2, 1].set_title(\"Voigt Residuals\")\n",
    "\n",
    "plt.tight_layout()\n",
    "plt.show()\n",
    "\n",
    "print(\"Gaussian Fit Parameters: Amplitude = {:.3f}, Center = {:.3f}, Width = {:.3f}\".format(*params_gaussian))\n",
    "print(\"Lorentzian Fit Parameters: Amplitude = {:.3f}, Center = {:.3f}, Width = {:.3f}\".format(*params_lorentzian))\n",
    "print(\"Voigt Fit Parameters: Amplitude = {:.3f}, Center = {:.3f}, Sigma = {:.3f}, Gamma = {:.3f}\".format(*params_voigt))"
   ]
  },
  {
   "cell_type": "code",
   "execution_count": null,
   "metadata": {},
   "outputs": [],
   "source": []
  }
 ],
 "metadata": {
  "kernelspec": {
   "display_name": "base",
   "language": "python",
   "name": "python3"
  },
  "language_info": {
   "codemirror_mode": {
    "name": "ipython",
    "version": 3
   },
   "file_extension": ".py",
   "mimetype": "text/x-python",
   "name": "python",
   "nbconvert_exporter": "python",
   "pygments_lexer": "ipython3",
   "version": "3.12.2"
  }
 },
 "nbformat": 4,
 "nbformat_minor": 2
}
